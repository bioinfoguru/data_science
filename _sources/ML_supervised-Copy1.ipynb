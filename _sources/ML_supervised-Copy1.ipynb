{
 "cells": [
  {
   "cell_type": "markdown",
   "id": "d13959d6",
   "metadata": {},
   "source": [
    "# datascience.bioinfo.guru"
   ]
  },
  {
   "cell_type": "code",
   "execution_count": 1,
   "id": "7066b74a",
   "metadata": {},
   "outputs": [
    {
     "data": {
      "application/javascript": [
       "IPython.notebook.set_autosave_interval(0)"
      ]
     },
     "metadata": {},
     "output_type": "display_data"
    },
    {
     "name": "stdout",
     "output_type": "stream",
     "text": [
      "Autosave disabled\n"
     ]
    }
   ],
   "source": [
    "%autosave 0"
   ]
  },
  {
   "cell_type": "markdown",
   "id": "c4a49e73",
   "metadata": {},
   "source": [
    "# Supervised learning\n",
    "\n",
    "Classification for proteins based on sequence information is an important tool for their functional annotation. Supervised machine learning algorithms are a lucrative option to develop classification models. Starting with a set to protein sequences that belong to a particular class (positive dataset) and a set of protein sequences that do not belong to that particualar class (negative dataset), machines learning model is built to classify unknown protein sequences. The model trains itself based on certain set of \"features\" that represent the different sequences in the two datasets. "
   ]
  },
  {
   "cell_type": "markdown",
   "id": "1b638ddf",
   "metadata": {},
   "source": [
    "## Datasets\n",
    "\n",
    "The first step for any supervised machine learning execise is to prepare a dataset having positive and negative cases. In our case we'll need a set of protein sequences that would represent positive and negative classes. We know that proteins are polymers made of 20 different amino acids. Proteins have been classified into different families based on their sequence similarity. For practice, we'll use some of the dataset that available in the literature. Below are two such datasets correponding to two different binary classification model building. \n",
    "- Positive and negative datasets corresponding to one of the protein families are available [here](https://webs.iiitd.edu.in/raghava/icaars/supplementary.html).\n",
    "- A dataset comprising of UniProt IDs of postive and negative sequences is available [here](https://static-content.springer.com/esm/art%3A10.1038%2Fs41598-018-27338-9/MediaObjects/41598_2018_27338_MOESM1_ESM.xlsx). \n",
    "\n",
    "## Feature extraction\n",
    "\n",
    "The next and one of the most important step in machine learning is feature extraction. For classifcation of protein sequences we cannot input the amino acid sequence directly to the classifier. So, we need to transform our data such that each sequence can be represent as a feature of constant length. Amino acid composition is one of the feature that can be used in this senario. Amino Acid Composition refers to frequency of each amino acid within a protein sequence. E.g. if a protein has a sequence 'MSAARQTTRKAE' it's amino acid composition can be represented as a vector of length 20:\n",
    "\n",
    "'A':3,'C':0,'D':0,'E':1,'F':0,'G':0,'H':0,'I':0,'K':1,'L':0,'M':1,'N':0,'P':0,'Q':1,'R':1,'S':1,'T':2,'V':0,'W':0,'Y':0\n",
    "\n",
    "In this way any protein sequence can be represented as a feature vector of fixed length. This is important because the protein sequences, even within the same class, can have different number of amino acids. To start with feature extraction and model building, we'll import the required libraries."
   ]
  },
  {
   "cell_type": "code",
   "execution_count": 2,
   "id": "046ca934",
   "metadata": {},
   "outputs": [],
   "source": [
    "import scipy\n",
    "import numpy as np\n",
    "import pandas as pd\n",
    "import matplotlib.pyplot as plt\n",
    "import seaborn as sns\n",
    "from Bio import SeqIO\n",
    "from Bio.SeqUtils.ProtParam import ProteinAnalysis\n",
    "from sklearn import model_selection\n",
    "from sklearn.svm import SVC\n",
    "from sklearn.metrics import accuracy_score"
   ]
  },
  {
   "cell_type": "markdown",
   "id": "69c3ea0f",
   "metadata": {},
   "source": [
    "First, we'll use `SeqIO.parse` function to read the sequence files and make a dictionary of all the sequences using the `to_dict` function. This dictionary would have fasta header as the keys of the dictionary and the sequence object as the corresponding values. Then, using the `get_amino_acids_percent` function from the Biopython library, the amino acid composition for all the sequences will be calculated. The code below shows the output for this function using a dummy sequence."
   ]
  },
  {
   "cell_type": "code",
   "execution_count": 3,
   "id": "cdd4bc9b",
   "metadata": {},
   "outputs": [
    {
     "data": {
      "text/plain": [
       "{'A': 0.23809523809523808,\n",
       " 'C': 0.0,\n",
       " 'D': 0.0,\n",
       " 'E': 0.09523809523809523,\n",
       " 'F': 0.0,\n",
       " 'G': 0.0,\n",
       " 'H': 0.0,\n",
       " 'I': 0.0,\n",
       " 'K': 0.0,\n",
       " 'L': 0.0,\n",
       " 'M': 0.0,\n",
       " 'N': 0.0,\n",
       " 'P': 0.0,\n",
       " 'Q': 0.09523809523809523,\n",
       " 'R': 0.2857142857142857,\n",
       " 'S': 0.047619047619047616,\n",
       " 'T': 0.09523809523809523,\n",
       " 'V': 0.0,\n",
       " 'W': 0.14285714285714285,\n",
       " 'Y': 0.0}"
      ]
     },
     "execution_count": 3,
     "metadata": {},
     "output_type": "execute_result"
    }
   ],
   "source": [
    "p1 = ProteinAnalysis(\"AAAASTRRRTRRAWEQWERQW\")\n",
    "p1.get_amino_acids_percent()"
   ]
  },
  {
   "cell_type": "markdown",
   "id": "31a41048",
   "metadata": {},
   "source": [
    "The code below creates the two dataframes one each for the positive and negative datasets. We'll add labels (as indicies) `1` and `-1` to indicate positive and negative classes, respectively."
   ]
  },
  {
   "cell_type": "code",
   "execution_count": 9,
   "id": "19e25e54",
   "metadata": {
    "scrolled": false
   },
   "outputs": [
    {
     "name": "stdout",
     "output_type": "stream",
     "text": [
      "Number of positive samples:  117\n",
      "Number of negative samples:  117\n"
     ]
    },
    {
     "data": {
      "text/html": [
       "<div>\n",
       "<style scoped>\n",
       "    .dataframe tbody tr th:only-of-type {\n",
       "        vertical-align: middle;\n",
       "    }\n",
       "\n",
       "    .dataframe tbody tr th {\n",
       "        vertical-align: top;\n",
       "    }\n",
       "\n",
       "    .dataframe thead th {\n",
       "        text-align: right;\n",
       "    }\n",
       "</style>\n",
       "<table border=\"1\" class=\"dataframe\">\n",
       "  <thead>\n",
       "    <tr style=\"text-align: right;\">\n",
       "      <th></th>\n",
       "      <th>A</th>\n",
       "      <th>C</th>\n",
       "      <th>D</th>\n",
       "      <th>E</th>\n",
       "      <th>F</th>\n",
       "      <th>G</th>\n",
       "      <th>H</th>\n",
       "      <th>I</th>\n",
       "      <th>K</th>\n",
       "      <th>L</th>\n",
       "      <th>M</th>\n",
       "      <th>N</th>\n",
       "      <th>P</th>\n",
       "      <th>Q</th>\n",
       "      <th>R</th>\n",
       "      <th>S</th>\n",
       "      <th>T</th>\n",
       "      <th>V</th>\n",
       "      <th>W</th>\n",
       "      <th>Y</th>\n",
       "    </tr>\n",
       "  </thead>\n",
       "  <tbody>\n",
       "    <tr>\n",
       "      <th>1</th>\n",
       "      <td>0.035928</td>\n",
       "      <td>0.007984</td>\n",
       "      <td>0.041916</td>\n",
       "      <td>0.131737</td>\n",
       "      <td>0.055888</td>\n",
       "      <td>0.049900</td>\n",
       "      <td>0.017964</td>\n",
       "      <td>0.081836</td>\n",
       "      <td>0.119760</td>\n",
       "      <td>0.107784</td>\n",
       "      <td>0.015968</td>\n",
       "      <td>0.037924</td>\n",
       "      <td>0.037924</td>\n",
       "      <td>0.011976</td>\n",
       "      <td>0.037924</td>\n",
       "      <td>0.055888</td>\n",
       "      <td>0.049900</td>\n",
       "      <td>0.057884</td>\n",
       "      <td>0.013972</td>\n",
       "      <td>0.029940</td>\n",
       "    </tr>\n",
       "    <tr>\n",
       "      <th>1</th>\n",
       "      <td>0.076233</td>\n",
       "      <td>0.004484</td>\n",
       "      <td>0.049327</td>\n",
       "      <td>0.065770</td>\n",
       "      <td>0.029895</td>\n",
       "      <td>0.082212</td>\n",
       "      <td>0.020927</td>\n",
       "      <td>0.055306</td>\n",
       "      <td>0.082212</td>\n",
       "      <td>0.074738</td>\n",
       "      <td>0.040359</td>\n",
       "      <td>0.037369</td>\n",
       "      <td>0.043348</td>\n",
       "      <td>0.056801</td>\n",
       "      <td>0.058296</td>\n",
       "      <td>0.055306</td>\n",
       "      <td>0.061286</td>\n",
       "      <td>0.053812</td>\n",
       "      <td>0.017937</td>\n",
       "      <td>0.034380</td>\n",
       "    </tr>\n",
       "    <tr>\n",
       "      <th>1</th>\n",
       "      <td>0.093333</td>\n",
       "      <td>0.009524</td>\n",
       "      <td>0.068571</td>\n",
       "      <td>0.080000</td>\n",
       "      <td>0.026667</td>\n",
       "      <td>0.120000</td>\n",
       "      <td>0.024762</td>\n",
       "      <td>0.059048</td>\n",
       "      <td>0.055238</td>\n",
       "      <td>0.095238</td>\n",
       "      <td>0.028571</td>\n",
       "      <td>0.015238</td>\n",
       "      <td>0.041905</td>\n",
       "      <td>0.019048</td>\n",
       "      <td>0.074286</td>\n",
       "      <td>0.060952</td>\n",
       "      <td>0.020952</td>\n",
       "      <td>0.053333</td>\n",
       "      <td>0.009524</td>\n",
       "      <td>0.043810</td>\n",
       "    </tr>\n",
       "    <tr>\n",
       "      <th>1</th>\n",
       "      <td>0.079470</td>\n",
       "      <td>0.036424</td>\n",
       "      <td>0.052980</td>\n",
       "      <td>0.067881</td>\n",
       "      <td>0.046358</td>\n",
       "      <td>0.072848</td>\n",
       "      <td>0.023179</td>\n",
       "      <td>0.046358</td>\n",
       "      <td>0.021523</td>\n",
       "      <td>0.117550</td>\n",
       "      <td>0.019868</td>\n",
       "      <td>0.016556</td>\n",
       "      <td>0.046358</td>\n",
       "      <td>0.039735</td>\n",
       "      <td>0.081126</td>\n",
       "      <td>0.072848</td>\n",
       "      <td>0.049669</td>\n",
       "      <td>0.072848</td>\n",
       "      <td>0.008278</td>\n",
       "      <td>0.028146</td>\n",
       "    </tr>\n",
       "    <tr>\n",
       "      <th>1</th>\n",
       "      <td>0.084158</td>\n",
       "      <td>0.003300</td>\n",
       "      <td>0.046205</td>\n",
       "      <td>0.094059</td>\n",
       "      <td>0.034653</td>\n",
       "      <td>0.077558</td>\n",
       "      <td>0.018152</td>\n",
       "      <td>0.061056</td>\n",
       "      <td>0.089109</td>\n",
       "      <td>0.099010</td>\n",
       "      <td>0.036304</td>\n",
       "      <td>0.057756</td>\n",
       "      <td>0.031353</td>\n",
       "      <td>0.029703</td>\n",
       "      <td>0.026403</td>\n",
       "      <td>0.047855</td>\n",
       "      <td>0.042904</td>\n",
       "      <td>0.061056</td>\n",
       "      <td>0.011551</td>\n",
       "      <td>0.047855</td>\n",
       "    </tr>\n",
       "    <tr>\n",
       "      <th>...</th>\n",
       "      <td>...</td>\n",
       "      <td>...</td>\n",
       "      <td>...</td>\n",
       "      <td>...</td>\n",
       "      <td>...</td>\n",
       "      <td>...</td>\n",
       "      <td>...</td>\n",
       "      <td>...</td>\n",
       "      <td>...</td>\n",
       "      <td>...</td>\n",
       "      <td>...</td>\n",
       "      <td>...</td>\n",
       "      <td>...</td>\n",
       "      <td>...</td>\n",
       "      <td>...</td>\n",
       "      <td>...</td>\n",
       "      <td>...</td>\n",
       "      <td>...</td>\n",
       "      <td>...</td>\n",
       "      <td>...</td>\n",
       "    </tr>\n",
       "    <tr>\n",
       "      <th>-1</th>\n",
       "      <td>0.087221</td>\n",
       "      <td>0.004057</td>\n",
       "      <td>0.050710</td>\n",
       "      <td>0.060852</td>\n",
       "      <td>0.034483</td>\n",
       "      <td>0.068966</td>\n",
       "      <td>0.020284</td>\n",
       "      <td>0.056795</td>\n",
       "      <td>0.070994</td>\n",
       "      <td>0.089249</td>\n",
       "      <td>0.020284</td>\n",
       "      <td>0.036511</td>\n",
       "      <td>0.050710</td>\n",
       "      <td>0.042596</td>\n",
       "      <td>0.054767</td>\n",
       "      <td>0.079108</td>\n",
       "      <td>0.052738</td>\n",
       "      <td>0.075051</td>\n",
       "      <td>0.004057</td>\n",
       "      <td>0.040568</td>\n",
       "    </tr>\n",
       "    <tr>\n",
       "      <th>-1</th>\n",
       "      <td>0.067901</td>\n",
       "      <td>0.009259</td>\n",
       "      <td>0.049383</td>\n",
       "      <td>0.030864</td>\n",
       "      <td>0.027778</td>\n",
       "      <td>0.055556</td>\n",
       "      <td>0.024691</td>\n",
       "      <td>0.037037</td>\n",
       "      <td>0.030864</td>\n",
       "      <td>0.080247</td>\n",
       "      <td>0.015432</td>\n",
       "      <td>0.040123</td>\n",
       "      <td>0.111111</td>\n",
       "      <td>0.080247</td>\n",
       "      <td>0.104938</td>\n",
       "      <td>0.101852</td>\n",
       "      <td>0.058642</td>\n",
       "      <td>0.030864</td>\n",
       "      <td>0.018519</td>\n",
       "      <td>0.024691</td>\n",
       "    </tr>\n",
       "    <tr>\n",
       "      <th>-1</th>\n",
       "      <td>0.053521</td>\n",
       "      <td>0.010329</td>\n",
       "      <td>0.056338</td>\n",
       "      <td>0.101408</td>\n",
       "      <td>0.037559</td>\n",
       "      <td>0.037559</td>\n",
       "      <td>0.014085</td>\n",
       "      <td>0.059155</td>\n",
       "      <td>0.082629</td>\n",
       "      <td>0.110798</td>\n",
       "      <td>0.025352</td>\n",
       "      <td>0.059155</td>\n",
       "      <td>0.029108</td>\n",
       "      <td>0.047887</td>\n",
       "      <td>0.061033</td>\n",
       "      <td>0.078873</td>\n",
       "      <td>0.048826</td>\n",
       "      <td>0.046948</td>\n",
       "      <td>0.005634</td>\n",
       "      <td>0.033803</td>\n",
       "    </tr>\n",
       "    <tr>\n",
       "      <th>-1</th>\n",
       "      <td>0.038462</td>\n",
       "      <td>0.022869</td>\n",
       "      <td>0.070686</td>\n",
       "      <td>0.062370</td>\n",
       "      <td>0.062370</td>\n",
       "      <td>0.024948</td>\n",
       "      <td>0.014553</td>\n",
       "      <td>0.066528</td>\n",
       "      <td>0.060291</td>\n",
       "      <td>0.121622</td>\n",
       "      <td>0.016632</td>\n",
       "      <td>0.069647</td>\n",
       "      <td>0.027027</td>\n",
       "      <td>0.040541</td>\n",
       "      <td>0.050936</td>\n",
       "      <td>0.096674</td>\n",
       "      <td>0.061331</td>\n",
       "      <td>0.058212</td>\n",
       "      <td>0.009356</td>\n",
       "      <td>0.024948</td>\n",
       "    </tr>\n",
       "    <tr>\n",
       "      <th>-1</th>\n",
       "      <td>0.042791</td>\n",
       "      <td>0.014884</td>\n",
       "      <td>0.055814</td>\n",
       "      <td>0.071628</td>\n",
       "      <td>0.058605</td>\n",
       "      <td>0.032558</td>\n",
       "      <td>0.020465</td>\n",
       "      <td>0.053953</td>\n",
       "      <td>0.071628</td>\n",
       "      <td>0.110698</td>\n",
       "      <td>0.010233</td>\n",
       "      <td>0.054884</td>\n",
       "      <td>0.044651</td>\n",
       "      <td>0.042791</td>\n",
       "      <td>0.059535</td>\n",
       "      <td>0.102326</td>\n",
       "      <td>0.040930</td>\n",
       "      <td>0.054884</td>\n",
       "      <td>0.013023</td>\n",
       "      <td>0.043721</td>\n",
       "    </tr>\n",
       "  </tbody>\n",
       "</table>\n",
       "<p>234 rows × 20 columns</p>\n",
       "</div>"
      ],
      "text/plain": [
       "           A         C         D         E         F         G         H  \\\n",
       "1   0.035928  0.007984  0.041916  0.131737  0.055888  0.049900  0.017964   \n",
       "1   0.076233  0.004484  0.049327  0.065770  0.029895  0.082212  0.020927   \n",
       "1   0.093333  0.009524  0.068571  0.080000  0.026667  0.120000  0.024762   \n",
       "1   0.079470  0.036424  0.052980  0.067881  0.046358  0.072848  0.023179   \n",
       "1   0.084158  0.003300  0.046205  0.094059  0.034653  0.077558  0.018152   \n",
       "..       ...       ...       ...       ...       ...       ...       ...   \n",
       "-1  0.087221  0.004057  0.050710  0.060852  0.034483  0.068966  0.020284   \n",
       "-1  0.067901  0.009259  0.049383  0.030864  0.027778  0.055556  0.024691   \n",
       "-1  0.053521  0.010329  0.056338  0.101408  0.037559  0.037559  0.014085   \n",
       "-1  0.038462  0.022869  0.070686  0.062370  0.062370  0.024948  0.014553   \n",
       "-1  0.042791  0.014884  0.055814  0.071628  0.058605  0.032558  0.020465   \n",
       "\n",
       "           I         K         L         M         N         P         Q  \\\n",
       "1   0.081836  0.119760  0.107784  0.015968  0.037924  0.037924  0.011976   \n",
       "1   0.055306  0.082212  0.074738  0.040359  0.037369  0.043348  0.056801   \n",
       "1   0.059048  0.055238  0.095238  0.028571  0.015238  0.041905  0.019048   \n",
       "1   0.046358  0.021523  0.117550  0.019868  0.016556  0.046358  0.039735   \n",
       "1   0.061056  0.089109  0.099010  0.036304  0.057756  0.031353  0.029703   \n",
       "..       ...       ...       ...       ...       ...       ...       ...   \n",
       "-1  0.056795  0.070994  0.089249  0.020284  0.036511  0.050710  0.042596   \n",
       "-1  0.037037  0.030864  0.080247  0.015432  0.040123  0.111111  0.080247   \n",
       "-1  0.059155  0.082629  0.110798  0.025352  0.059155  0.029108  0.047887   \n",
       "-1  0.066528  0.060291  0.121622  0.016632  0.069647  0.027027  0.040541   \n",
       "-1  0.053953  0.071628  0.110698  0.010233  0.054884  0.044651  0.042791   \n",
       "\n",
       "           R         S         T         V         W         Y  \n",
       "1   0.037924  0.055888  0.049900  0.057884  0.013972  0.029940  \n",
       "1   0.058296  0.055306  0.061286  0.053812  0.017937  0.034380  \n",
       "1   0.074286  0.060952  0.020952  0.053333  0.009524  0.043810  \n",
       "1   0.081126  0.072848  0.049669  0.072848  0.008278  0.028146  \n",
       "1   0.026403  0.047855  0.042904  0.061056  0.011551  0.047855  \n",
       "..       ...       ...       ...       ...       ...       ...  \n",
       "-1  0.054767  0.079108  0.052738  0.075051  0.004057  0.040568  \n",
       "-1  0.104938  0.101852  0.058642  0.030864  0.018519  0.024691  \n",
       "-1  0.061033  0.078873  0.048826  0.046948  0.005634  0.033803  \n",
       "-1  0.050936  0.096674  0.061331  0.058212  0.009356  0.024948  \n",
       "-1  0.059535  0.102326  0.040930  0.054884  0.013023  0.043721  \n",
       "\n",
       "[234 rows x 20 columns]"
      ]
     },
     "execution_count": 9,
     "metadata": {},
     "output_type": "execute_result"
    }
   ],
   "source": [
    "positive_dict = SeqIO.to_dict(SeqIO.parse(\"positive-aars.fasta\", \"fasta\"))\n",
    "negative_dict = SeqIO.to_dict(SeqIO.parse(\"negative-aars.fasta\", \"fasta\"))\n",
    "\n",
    "## Amino acid composition calculation##\n",
    "#c1 = ProteinAnalysis(\"AAAASTRRRTRRAWEQWERQW\").count_amino_acids()\n",
    "df1 = pd.DataFrame()\n",
    "for keys,values in positive_dict.items():\n",
    "    df1 = pd.concat([df1, pd.Series(ProteinAnalysis(str(values.seq)).get_amino_acids_percent(),name='1').to_frame().T])\n",
    "for keys,values in negative_dict.items():\n",
    "    df1 = pd.concat([df1, pd.Series(ProteinAnalysis(str(values.seq)).get_amino_acids_percent(),name='-1').to_frame().T])\n",
    "\n",
    "print(\"Number of positive samples: \", len(positive_dict))\n",
    "print(\"Number of negative samples: \", len(negative_dict))\n",
    "\n",
    "df1"
   ]
  },
  {
   "cell_type": "markdown",
   "id": "b234ce4e",
   "metadata": {},
   "source": [
    "Next, we'll check how these different amino acid compositions are correlated in our dataset. The pairwise correlations will be calculated using the `coor` function from the pandas library and the ploting is done using the `heatmap` function of the seaborn library. "
   ]
  },
  {
   "cell_type": "code",
   "execution_count": 13,
   "id": "8f166f3e",
   "metadata": {},
   "outputs": [
    {
     "data": {
      "text/plain": [
       "<AxesSubplot:>"
      ]
     },
     "execution_count": 13,
     "metadata": {},
     "output_type": "execute_result"
    },
    {
     "data": {
      "image/png": "[encoded data removed]",
      "text/plain": [
       "<Figure size 432x288 with 2 Axes>"
      ]
     },
     "metadata": {
      "needs_background": "light"
     },
     "output_type": "display_data"
    }
   ],
   "source": [
    "#correlation between different features \n",
    "sns.heatmap(df1.corr())"
   ]
  },
  {
   "cell_type": "markdown",
   "id": "23da29e9",
   "metadata": {},
   "source": [
    "## Model building\n",
    "\n",
    "Now, we'll split our data into training and testing sub-sets. The training set will be used to build the SVM model and the testing set will be used to test the accuracy of the model. The `train_test_split` function in `model_selection` is used to create these sub-set given the data matrix (X) and labels (Y). For this function, the `test_size` keyword argument determines the size for the training and testing sub-set. E.g., when `test_size` is set to 0.2 then this imply that the model training will be done using 80% of the data and testing will be performed using the remaining 20% of the data. This approach ensures that when we are test our model, we are using data that has _not_ been used for training the model. Subsequently, we'll build the SVM model using the training dataset and check its prediction accuracy using the testing dataset."
   ]
  },
  {
   "cell_type": "code",
   "execution_count": 10,
   "id": "23e9dc0e",
   "metadata": {},
   "outputs": [
    {
     "data": {
      "text/plain": [
       "Index(['1', '1', '1', '1', '1', '1', '1', '1', '1', '1',\n",
       "       ...\n",
       "       '-1', '-1', '-1', '-1', '-1', '-1', '-1', '-1', '-1', '-1'],\n",
       "      dtype='object', length=234)"
      ]
     },
     "execution_count": 10,
     "metadata": {},
     "output_type": "execute_result"
    }
   ],
   "source": [
    "df1.index"
   ]
  },
  {
   "cell_type": "code",
   "execution_count": 13,
   "id": "a6a69ee1",
   "metadata": {},
   "outputs": [
    {
     "name": "stdout",
     "output_type": "stream",
     "text": [
      "0.723404255319149\n"
     ]
    }
   ],
   "source": [
    "# Split-out validation dataset\"\n",
    "validation_size = 0.20 # 20% data for testing\n",
    "seed = None # change to int for reproducibility\n",
    "X_train, X_validation, Y_train, Y_validation = model_selection.train_test_split(df1, df1.index, \\\n",
    "                                                                               test_size=validation_size, \\\n",
    "                                                                                random_state=seed)\n",
    "\n",
    "new_clf = SVC()\n",
    "model1 = new_clf.fit(X_train, Y_train)\n",
    "Y_predicted = model1.predict(X_validation)\n",
    "score1 = accuracy_score(Y_predicted, Y_validation)\n",
    "print(score1)"
   ]
  },
  {
   "cell_type": "markdown",
   "id": "67fc9768",
   "metadata": {},
   "source": [
    "## Cross-validation\n",
    "One of the limitation of the approach used above is that we are not using the entire data for model building since a sub-set of data is set aside for testing. To overcome this limitation, the cross-validation approach is used. Here, multiple splits of the data are created and each of these splits are iteratively used for model building and testing. This way we have practically used the entire data for model building. This method is called kfold cross validation, where k indicates the number of splits."
   ]
  },
  {
   "cell_type": "code",
   "execution_count": 109,
   "id": "89658f2e",
   "metadata": {
    "tags": [
     "remove-input"
    ]
   },
   "outputs": [
    {
     "data": {
      "image/png": "[encoded data removed]",
      "text/plain": [
       "<Figure size 432x216 with 1 Axes>"
      ]
     },
     "metadata": {
      "needs_background": "light"
     },
     "output_type": "display_data"
    }
   ],
   "source": [
    "import numpy as np\n",
    "import matplotlib.pyplot as plt\n",
    "from sklearn.model_selection import KFold\n",
    "\n",
    "# Define a function to visualize cross-validation behavior\n",
    "def plot_cv_indices(cv, X, y, n_splits, ax, lw=10):\n",
    "    \"\"\"Create a sample plot for indices of a cross-validation object.\"\"\"\n",
    "    # Generate the training/testing visualizations for each CV split\n",
    "    for ii, (tr, tt) in enumerate(cv.split(X, y)):\n",
    "        # Fill in indices with the training/test groups\n",
    "        indices = np.array([np.nan] * len(X))\n",
    "        indices[tt] =  1\n",
    "        indices[tr] =  0\n",
    "\n",
    "        # Visualize the results\n",
    "        ax.scatter(\n",
    "            range(len(indices)),\n",
    "            [ii +  0.5] * len(indices),\n",
    "            c=indices,\n",
    "            marker=\"_\",\n",
    "            lw=lw,\n",
    "            cmap=plt.cm.Accent,\n",
    "            vmin=-0.2,\n",
    "            vmax=1.2,\n",
    "        )\n",
    "\n",
    "    # Formatting\n",
    "    yticklabels = list(range(n_splits)) + [\"\"]\n",
    "    ax.set(\n",
    "        yticks=np.arange(n_splits +  1) +  0.5,\n",
    "        yticklabels=yticklabels,\n",
    "        xlabel=\"Sample index\",\n",
    "        ylabel=\"CV iteration\",\n",
    "        ylim=[n_splits +  1.2, -0.2],\n",
    "        xlim=[0, len(X)],\n",
    "    )\n",
    "    return ax\n",
    "\n",
    "# Example usage\n",
    "from sklearn.datasets import make_blobs\n",
    "\n",
    "# Generate a synthetic dataset\n",
    "X, y = make_blobs(n_samples=1000, n_features=2, centers=2, cluster_std=10.0, random_state=12345)\n",
    "\n",
    "# Set up the cross-validation object\n",
    "cv = KFold(n_splits=5)\n",
    "\n",
    "# Create the plot\n",
    "fig, ax = plt.subplots(figsize=(6,  3))\n",
    "plot_cv_indices(cv, X, y, n_splits=5, ax=ax)\n",
    "\n",
    "ax.spines[[\"top\",\"bottom\",\"left\",\"right\"]].set_visible(False)\n",
    "ax.xaxis.set_ticks([])\n",
    "ax.yaxis.set_ticklabels([\"Dataset1\",\"Dataset2\",\"Dataset3\",\"Dataset4\",\"Dataset5\",\"\"])\n",
    "ax.tick_params(axis='y', left=False)\n",
    "\n",
    "plt.xlabel(\"\")\n",
    "plt.ylabel(\"\")\n",
    "\n",
    "# Legend\n",
    "ax.legend(\n",
    "    [plt.Line2D([0], [0], color=(0.7490196078431373, 0.3568627450980392, 0.09019607843137253, 1.0), lw=10, linestyle=\"solid\"),\n",
    "     plt.Line2D([0], [0], color=(0.7450980392156863, 0.6823529411764706, 0.8313725490196079, 1.0), lw=10, linestyle=\"solid\")],\n",
    "    [\"Testing set\", \"Training set\"],\n",
    "    loc=\"lower right\",\n",
    ")\n",
    "plt.tight_layout()\n",
    "plt.show()\n"
   ]
  },
  {
   "cell_type": "markdown",
   "id": "9631cdb3",
   "metadata": {},
   "source": [
    "The `cross_val_score` function in `model.selection` class is used to perform the kfold cross validation by specifying the required value to the `cv` keyword argument. "
   ]
  },
  {
   "cell_type": "code",
   "execution_count": 14,
   "id": "19220b33",
   "metadata": {
    "scrolled": true
   },
   "outputs": [
    {
     "name": "stdout",
     "output_type": "stream",
     "text": [
      "[0.54166667 0.625      0.5        0.83333333 0.60869565 0.69565217\n",
      " 0.43478261 0.56521739 0.73913043 0.60869565]\n",
      "0.6152173913043478 0.11104998581213907\n"
     ]
    }
   ],
   "source": [
    "from sklearn.metrics import accuracy_score\n",
    "from sklearn.svm import SVC\n",
    "\n",
    "# Test options and evaluation metric\n",
    "scoring = 'accuracy'\n",
    "\n",
    "kfold = model_selection.KFold(n_splits=10)\n",
    "cv_results = model_selection.cross_val_score(SVC(), df1, df1.index, cv=kfold, scoring=scoring)\n",
    "\n",
    "print(cv_results)\n",
    "print(cv_results.mean(), cv_results.std())"
   ]
  },
  {
   "cell_type": "code",
   "execution_count": 15,
   "id": "56172348",
   "metadata": {},
   "outputs": [
    {
     "data": {
      "text/plain": [
       "{'C': 1.0,\n",
       " 'break_ties': False,\n",
       " 'cache_size': 200,\n",
       " 'class_weight': None,\n",
       " 'coef0': 0.0,\n",
       " 'decision_function_shape': 'ovr',\n",
       " 'degree': 3,\n",
       " 'gamma': 'scale',\n",
       " 'kernel': 'rbf',\n",
       " 'max_iter': -1,\n",
       " 'probability': False,\n",
       " 'random_state': None,\n",
       " 'shrinking': True,\n",
       " 'tol': 0.001,\n",
       " 'verbose': False}"
      ]
     },
     "execution_count": 15,
     "metadata": {},
     "output_type": "execute_result"
    }
   ],
   "source": [
    "SVC().get_params()"
   ]
  },
  {
   "cell_type": "markdown",
   "id": "e5386cc9",
   "metadata": {},
   "source": [
    "## Hyperparameters"
   ]
  },
  {
   "cell_type": "code",
   "execution_count": 16,
   "id": "9568a1ab",
   "metadata": {},
   "outputs": [
    {
     "name": "stdout",
     "output_type": "stream",
     "text": [
      "[0.70212766 0.65957447 0.78723404 0.5106383  0.65217391]\n",
      "0.6281221091581869 0.6623496762257168\n"
     ]
    }
   ],
   "source": [
    "clf_poly = SVC(kernel='poly', degree=3)\n",
    "clf_rbf = SVC(kernel='rbf', C=10)\n",
    "\n",
    "kfold = model_selection.KFold(n_splits=5)\n",
    "cv_SVM_poly_results = model_selection.cross_val_score(clf_poly, df1, df1.index, cv=kfold, scoring=scoring)\n",
    "cv_SVM_rbf_results = model_selection.cross_val_score(clf_rbf, df1, df1.index, cv=kfold, scoring=scoring)\n",
    "print(cv_SVM_rbf_results)\n",
    "print (cv_SVM_poly_results.mean(), cv_SVM_rbf_results.mean())"
   ]
  },
  {
   "cell_type": "markdown",
   "id": "bb615c1d",
   "metadata": {},
   "source": [
    "## Grid Search"
   ]
  },
  {
   "cell_type": "code",
   "execution_count": 17,
   "id": "97a7fde0",
   "metadata": {},
   "outputs": [
    {
     "data": {
      "text/html": [
       "<style>#sk-container-id-1 {color: black;background-color: white;}#sk-container-id-1 pre{padding: 0;}#sk-container-id-1 div.sk-toggleable {background-color: white;}#sk-container-id-1 label.sk-toggleable__label {cursor: pointer;display: block;width: 100%;margin-bottom: 0;padding: 0.3em;box-sizing: border-box;text-align: center;}#sk-container-id-1 label.sk-toggleable__label-arrow:before {content: \"▸\";float: left;margin-right: 0.25em;color: #696969;}#sk-container-id-1 label.sk-toggleable__label-arrow:hover:before {color: black;}#sk-container-id-1 div.sk-estimator:hover label.sk-toggleable__label-arrow:before {color: black;}#sk-container-id-1 div.sk-toggleable__content {max-height: 0;max-width: 0;overflow: hidden;text-align: left;background-color: #f0f8ff;}#sk-container-id-1 div.sk-toggleable__content pre {margin: 0.2em;color: black;border-radius: 0.25em;background-color: #f0f8ff;}#sk-container-id-1 input.sk-toggleable__control:checked~div.sk-toggleable__content {max-height: 200px;max-width: 100%;overflow: auto;}#sk-container-id-1 input.sk-toggleable__control:checked~label.sk-toggleable__label-arrow:before {content: \"▾\";}#sk-container-id-1 div.sk-estimator input.sk-toggleable__control:checked~label.sk-toggleable__label {background-color: #d4ebff;}#sk-container-id-1 div.sk-label input.sk-toggleable__control:checked~label.sk-toggleable__label {background-color: #d4ebff;}#sk-container-id-1 input.sk-hidden--visually {border: 0;clip: rect(1px 1px 1px 1px);clip: rect(1px, 1px, 1px, 1px);height: 1px;margin: -1px;overflow: hidden;padding: 0;position: absolute;width: 1px;}#sk-container-id-1 div.sk-estimator {font-family: monospace;background-color: #f0f8ff;border: 1px dotted black;border-radius: 0.25em;box-sizing: border-box;margin-bottom: 0.5em;}#sk-container-id-1 div.sk-estimator:hover {background-color: #d4ebff;}#sk-container-id-1 div.sk-parallel-item::after {content: \"\";width: 100%;border-bottom: 1px solid gray;flex-grow: 1;}#sk-container-id-1 div.sk-label:hover label.sk-toggleable__label {background-color: #d4ebff;}#sk-container-id-1 div.sk-serial::before {content: \"\";position: absolute;border-left: 1px solid gray;box-sizing: border-box;top: 0;bottom: 0;left: 50%;z-index: 0;}#sk-container-id-1 div.sk-serial {display: flex;flex-direction: column;align-items: center;background-color: white;padding-right: 0.2em;padding-left: 0.2em;position: relative;}#sk-container-id-1 div.sk-item {position: relative;z-index: 1;}#sk-container-id-1 div.sk-parallel {display: flex;align-items: stretch;justify-content: center;background-color: white;position: relative;}#sk-container-id-1 div.sk-item::before, #sk-container-id-1 div.sk-parallel-item::before {content: \"\";position: absolute;border-left: 1px solid gray;box-sizing: border-box;top: 0;bottom: 0;left: 50%;z-index: -1;}#sk-container-id-1 div.sk-parallel-item {display: flex;flex-direction: column;z-index: 1;position: relative;background-color: white;}#sk-container-id-1 div.sk-parallel-item:first-child::after {align-self: flex-end;width: 50%;}#sk-container-id-1 div.sk-parallel-item:last-child::after {align-self: flex-start;width: 50%;}#sk-container-id-1 div.sk-parallel-item:only-child::after {width: 0;}#sk-container-id-1 div.sk-dashed-wrapped {border: 1px dashed gray;margin: 0 0.4em 0.5em 0.4em;box-sizing: border-box;padding-bottom: 0.4em;background-color: white;}#sk-container-id-1 div.sk-label label {font-family: monospace;font-weight: bold;display: inline-block;line-height: 1.2em;}#sk-container-id-1 div.sk-label-container {text-align: center;}#sk-container-id-1 div.sk-container {/* jupyter's `normalize.less` sets `[hidden] { display: none; }` but bootstrap.min.css set `[hidden] { display: none !important; }` so we also need the `!important` here to be able to override the default hidden behavior on the sphinx rendered scikit-learn.org. See: https://github.com/scikit-learn/scikit-learn/issues/21755 */display: inline-block !important;position: relative;}#sk-container-id-1 div.sk-text-repr-fallback {display: none;}</style><div id=\"sk-container-id-1\" class=\"sk-top-container\"><div class=\"sk-text-repr-fallback\"><pre>GridSearchCV(cv=5, estimator=SVC(),\n",
       "             param_grid=[{&#x27;C&#x27;: [1, 10, 100, 1000, 10000],\n",
       "                          &#x27;gamma&#x27;: [0.001, 0.0001], &#x27;kernel&#x27;: [&#x27;rbf&#x27;]},\n",
       "                         {&#x27;C&#x27;: [1, 10, 100, 1000, 10000], &#x27;kernel&#x27;: [&#x27;linear&#x27;]},\n",
       "                         {&#x27;C&#x27;: [1, 10, 100, 1000, 10000],\n",
       "                          &#x27;degree&#x27;: range(0, 10), &#x27;kernel&#x27;: [&#x27;poly&#x27;]}],\n",
       "             scoring=&#x27;accuracy&#x27;)</pre><b>In a Jupyter environment, please rerun this cell to show the HTML representation or trust the notebook. <br />On GitHub, the HTML representation is unable to render, please try loading this page with nbviewer.org.</b></div><div class=\"sk-container\" hidden><div class=\"sk-item sk-dashed-wrapped\"><div class=\"sk-label-container\"><div class=\"sk-label sk-toggleable\"><input class=\"sk-toggleable__control sk-hidden--visually\" id=\"sk-estimator-id-1\" type=\"checkbox\" ><label for=\"sk-estimator-id-1\" class=\"sk-toggleable__label sk-toggleable__label-arrow\">GridSearchCV</label><div class=\"sk-toggleable__content\"><pre>GridSearchCV(cv=5, estimator=SVC(),\n",
       "             param_grid=[{&#x27;C&#x27;: [1, 10, 100, 1000, 10000],\n",
       "                          &#x27;gamma&#x27;: [0.001, 0.0001], &#x27;kernel&#x27;: [&#x27;rbf&#x27;]},\n",
       "                         {&#x27;C&#x27;: [1, 10, 100, 1000, 10000], &#x27;kernel&#x27;: [&#x27;linear&#x27;]},\n",
       "                         {&#x27;C&#x27;: [1, 10, 100, 1000, 10000],\n",
       "                          &#x27;degree&#x27;: range(0, 10), &#x27;kernel&#x27;: [&#x27;poly&#x27;]}],\n",
       "             scoring=&#x27;accuracy&#x27;)</pre></div></div></div><div class=\"sk-parallel\"><div class=\"sk-parallel-item\"><div class=\"sk-item\"><div class=\"sk-label-container\"><div class=\"sk-label sk-toggleable\"><input class=\"sk-toggleable__control sk-hidden--visually\" id=\"sk-estimator-id-2\" type=\"checkbox\" ><label for=\"sk-estimator-id-2\" class=\"sk-toggleable__label sk-toggleable__label-arrow\">estimator: SVC</label><div class=\"sk-toggleable__content\"><pre>SVC()</pre></div></div></div><div class=\"sk-serial\"><div class=\"sk-item\"><div class=\"sk-estimator sk-toggleable\"><input class=\"sk-toggleable__control sk-hidden--visually\" id=\"sk-estimator-id-3\" type=\"checkbox\" ><label for=\"sk-estimator-id-3\" class=\"sk-toggleable__label sk-toggleable__label-arrow\">SVC</label><div class=\"sk-toggleable__content\"><pre>SVC()</pre></div></div></div></div></div></div></div></div></div></div>"
      ],
      "text/plain": [
       "GridSearchCV(cv=5, estimator=SVC(),\n",
       "             param_grid=[{'C': [1, 10, 100, 1000, 10000],\n",
       "                          'gamma': [0.001, 0.0001], 'kernel': ['rbf']},\n",
       "                         {'C': [1, 10, 100, 1000, 10000], 'kernel': ['linear']},\n",
       "                         {'C': [1, 10, 100, 1000, 10000],\n",
       "                          'degree': range(0, 10), 'kernel': ['poly']}],\n",
       "             scoring='accuracy')"
      ]
     },
     "execution_count": 17,
     "metadata": {},
     "output_type": "execute_result"
    }
   ],
   "source": [
    "from sklearn.model_selection import GridSearchCV\n",
    "tuned_parameters = [{'kernel': ['rbf'], 'gamma': [1e-3, 1e-4],\n",
    "                     'C': [1, 10, 100, 1000, 10000]},\n",
    "                    {'kernel': ['linear'], 'C': [1, 10, 100, 1000, 10000]},\n",
    "                    {'kernel':['poly'], 'C': [1, 10, 100, 1000, 10000],\n",
    "                     'degree': range(10)}]\n",
    "clf_grid = GridSearchCV(SVC(), tuned_parameters, cv=5, scoring='accuracy')\n",
    "clf_grid.fit(df1,df1.index)"
   ]
  },
  {
   "cell_type": "code",
   "execution_count": 18,
   "id": "140c52fb",
   "metadata": {},
   "outputs": [
    {
     "name": "stdout",
     "output_type": "stream",
     "text": [
      "{'C': 1, 'degree': 3, 'kernel': 'poly'}\n"
     ]
    }
   ],
   "source": [
    "print(clf_grid.best_params_)\n",
    "#print(clf_grid.cv_results_)"
   ]
  },
  {
   "cell_type": "markdown",
   "id": "b2f70578",
   "metadata": {},
   "source": [
    "Build a SVM model using above hyperparameters and check the prediction accuracy."
   ]
  },
  {
   "cell_type": "code",
   "execution_count": 19,
   "id": "8306de34",
   "metadata": {},
   "outputs": [
    {
     "name": "stdout",
     "output_type": "stream",
     "text": [
      "[0.70212766 0.65957447 0.76595745 0.40425532 0.60869565]\n",
      "0.6281221091581869 0.12325451681757636\n"
     ]
    }
   ],
   "source": [
    "clf_poly = SVC(kernel='poly',C=1, degree=3)\n",
    "\n",
    "kfold = model_selection.KFold(n_splits=5)\n",
    "cv_SVM_results = model_selection.cross_val_score(clf_poly, df1, df1.index, cv=kfold, scoring=scoring)\n",
    "print(cv_SVM_results)\n",
    "print (cv_SVM_results.mean(),cv_SVM_results.std())"
   ]
  },
  {
   "cell_type": "markdown",
   "id": "ecb88878",
   "metadata": {},
   "source": [
    "## Confusion matrix"
   ]
  },
  {
   "cell_type": "code",
   "execution_count": 21,
   "id": "7a616b67",
   "metadata": {},
   "outputs": [],
   "source": [
    "from collections import Counter\n",
    "from sklearn.metrics import confusion_matrix"
   ]
  },
  {
   "cell_type": "code",
   "execution_count": 22,
   "id": "0ba2b324",
   "metadata": {
    "scrolled": true
   },
   "outputs": [
    {
     "name": "stdout",
     "output_type": "stream",
     "text": [
      "Counter({'1': 117, '-1': 117})\n",
      "Counter({'-1': 121, '1': 113})\n"
     ]
    }
   ],
   "source": [
    "clf_new = SVC(kernel='poly',degree=3, probability=True)\n",
    "\n",
    "## Fit model to the data ##\n",
    "clf_new.fit(df1,df1.index)\n",
    "print(Counter(df1.index))\n",
    "\n",
    "## Predict labels for the original data ##\n",
    "clf_new_predict = clf_new.predict(df1)\n",
    "print(Counter(clf_new_predict))"
   ]
  },
  {
   "cell_type": "code",
   "execution_count": 119,
   "id": "cec24e63",
   "metadata": {},
   "outputs": [
    {
     "data": {
      "text/plain": [
       "array([0.27016497, 0.72983503])"
      ]
     },
     "execution_count": 119,
     "metadata": {},
     "output_type": "execute_result"
    }
   ],
   "source": [
    "y_proba = clf_new.predict_proba(df1)\n",
    "y_proba[0]"
   ]
  },
  {
   "cell_type": "code",
   "execution_count": 120,
   "id": "275e6b85",
   "metadata": {},
   "outputs": [
    {
     "data": {
      "text/plain": [
       "numpy.ndarray"
      ]
     },
     "execution_count": 120,
     "metadata": {},
     "output_type": "execute_result"
    }
   ],
   "source": [
    "type(clf_new_predict)"
   ]
  },
  {
   "cell_type": "code",
   "execution_count": 33,
   "id": "1d525253",
   "metadata": {},
   "outputs": [
    {
     "name": "stdout",
     "output_type": "stream",
     "text": [
      "[[108   9]\n",
      " [ 13 104]]\n"
     ]
    },
    {
     "data": {
      "image/png": "[encoded data removed]",
      "text/plain": [
       "<Figure size 432x288 with 1 Axes>"
      ]
     },
     "metadata": {
      "needs_background": "light"
     },
     "output_type": "display_data"
    }
   ],
   "source": [
    "cm = confusion_matrix(labels,clf_new_predict)\n",
    "print(cm)\n",
    "\n",
    "fig,ax= plt.subplots()\n",
    "sns.heatmap(cm, square=True, annot=True, fmt='g', cbar=False, ax=ax)\n",
    "ax.set_xlabel('Predicted labels')\n",
    "ax.set_ylabel('True labels')\n",
    "ax.xaxis.set_ticklabels(['positive', 'negative'])\n",
    "ax.yaxis.set_ticklabels(['positive', 'negative'])\n",
    "plt.show()"
   ]
  },
  {
   "cell_type": "code",
   "execution_count": 23,
   "id": "c8aa52b5",
   "metadata": {
    "tags": [
     "remove-input"
    ]
   },
   "outputs": [
    {
     "data": {
      "text/html": [
       "<img src=\"https://mermaid.ink/img/CiUle2luaXQ6IHsicXVhZHJhbnRDaGFydCI6IHsiY2hhcnRXaWR0aCI6IDMwMCwgImNoYXJ0SGVpZ2h0IjogMzAwfSB9fSUlCnF1YWRyYW50Q2hhcnQKICAgIHgtYXhpcyBwb3NpdGl2ZSAtLT4gbmVnYXRpdmUKICAgIHktYXhpcyBuZWdhdGl2ZSAtLT4gcG9zaXRpdmUKICAgIHF1YWRyYW50LTEgRmFsc2UgTmVnYXRpdmUKICAgIHF1YWRyYW50LTIgVHJ1ZSBQb3NpdGl2ZQogICAgcXVhZHJhbnQtMyBGYWxzZSBQb3NpdGl2ZQogICAgcXVhZHJhbnQtNCBUcnVlIE5lZ2F0aXZlCg==\"/>"
      ],
      "text/plain": [
       "<IPython.core.display.Image object>"
      ]
     },
     "metadata": {},
     "output_type": "display_data"
    }
   ],
   "source": [
    "import base64\n",
    "from IPython.display import Image, display\n",
    "import matplotlib.pyplot as plt\n",
    "def mm(graph):\n",
    "    graphbytes = graph.encode(\"utf8\")\n",
    "    base64_bytes = base64.b64encode(graphbytes)\n",
    "    base64_string = base64_bytes.decode(\"ascii\")\n",
    "    display(Image(url=\"https://mermaid.ink/img/\" + base64_string))\n",
    "\n",
    "mm(\"\"\"\n",
    "%%{init: {\"quadrantChart\": {\"chartWidth\": 300, \"chartHeight\": 300} }}%%\n",
    "quadrantChart\n",
    "    x-axis positive --> negative\n",
    "    y-axis negative --> positive\n",
    "    quadrant-1 False Negative\n",
    "    quadrant-2 True Positive\n",
    "    quadrant-3 False Positive\n",
    "    quadrant-4 True Negative\n",
    "\"\"\")\n"
   ]
  },
  {
   "cell_type": "markdown",
   "id": "7249ed51",
   "metadata": {},
   "source": [
    "## ROC Curve"
   ]
  },
  {
   "cell_type": "code",
   "execution_count": 121,
   "id": "278fd08b",
   "metadata": {},
   "outputs": [
    {
     "data": {
      "text/plain": [
       "array([ 1,  1,  1, -1,  1, -1, -1,  1,  1,  1,  1,  1,  1,  1,  1,  1, -1,\n",
       "        1, -1,  1,  1,  1,  1,  1,  1,  1,  1,  1,  1,  1,  1,  1,  1,  1,\n",
       "        1,  1,  1,  1, -1,  1, -1,  1, -1,  1,  1,  1,  1,  1,  1,  1,  1,\n",
       "        1,  1,  1,  1,  1,  1,  1,  1,  1,  1,  1,  1, -1,  1,  1, -1,  1,\n",
       "       -1,  1,  1,  1,  1,  1,  1,  1,  1,  1,  1,  1,  1,  1,  1,  1,  1,\n",
       "        1,  1,  1,  1,  1,  1,  1,  1,  1,  1,  1, -1,  1,  1,  1,  1,  1,\n",
       "        1,  1,  1,  1,  1, -1,  1,  1,  1,  1,  1,  1,  1,  1,  1, -1, -1,\n",
       "       -1, -1, -1, -1, -1,  1, -1, -1, -1, -1, -1, -1, -1, -1, -1, -1, -1,\n",
       "       -1, -1, -1, -1, -1, -1, -1, -1, -1, -1, -1,  1, -1, -1, -1, -1, -1,\n",
       "       -1, -1, -1, -1, -1, -1,  1, -1, -1, -1, -1, -1, -1,  1, -1, -1, -1,\n",
       "       -1, -1, -1, -1, -1, -1,  1,  1, -1, -1, -1, -1, -1, -1,  1,  1, -1,\n",
       "       -1, -1, -1, -1, -1, -1, -1, -1, -1, -1, -1, -1, -1, -1, -1,  1, -1,\n",
       "       -1, -1, -1, -1, -1, -1, -1, -1, -1, -1, -1, -1, -1, -1, -1, -1, -1,\n",
       "       -1, -1, -1, -1, -1, -1, -1, -1, -1, -1, -1, -1, -1])"
      ]
     },
     "execution_count": 121,
     "metadata": {},
     "output_type": "execute_result"
    }
   ],
   "source": [
    "clf_new_predict = clf_new_predict.astype(int)\n",
    "clf_new_predict"
   ]
  },
  {
   "cell_type": "code",
   "execution_count": 124,
   "id": "b1fc4555",
   "metadata": {},
   "outputs": [
    {
     "data": {
      "image/png": "[encoded data removed]",
      "text/plain": [
       "<Figure size 360x360 with 1 Axes>"
      ]
     },
     "metadata": {
      "needs_background": "light"
     },
     "output_type": "display_data"
    }
   ],
   "source": [
    "from sklearn.metrics import roc_curve\n",
    "from sklearn.metrics import RocCurveDisplay\n",
    "\n",
    "fpr, tpr, _ = roc_curve(df1.index.astype('int'), y_proba[:, 1])#clf_new_predict.astype('int'))\n",
    "roc_display = RocCurveDisplay(fpr=fpr, tpr=tpr).plot()\n",
    "roc_display.figure_.set_size_inches(5,5)\n",
    "plt.plot([0, 1], [0, 1], color = 'grey', linestyle=\"dashed\")\n",
    "plt.show()"
   ]
  },
  {
   "cell_type": "markdown",
   "id": "8c8d7b7a",
   "metadata": {},
   "source": [
    "### Exercise \n",
    "\n",
    "**Extract another feature - Di-Peptide Composition (DPC)**\n",
    "\n",
    "For each sequence calculate the frequency of pairwaise occurrence of amino acids. The length of the feature vector for each sequence would be 400 (20 x 20). Construct a classification model using DPC as a feature and compare the results with classification using amino acid composition.\n"
   ]
  },
  {
   "cell_type": "markdown",
   "id": "09023594",
   "metadata": {},
   "source": [
    "\"ACDFERDFERALK\" 20x20"
   ]
  },
  {
   "cell_type": "code",
   "execution_count": 7,
   "id": "b22dcfc9",
   "metadata": {},
   "outputs": [],
   "source": [
    "import itertools\n",
    "aa_list = ['A','C','D','E','F','G','H','I','K','L','M','N','P','Q','R','S','T','V','W','Y']"
   ]
  },
  {
   "cell_type": "code",
   "execution_count": 8,
   "id": "9ac53440",
   "metadata": {},
   "outputs": [
    {
     "data": {
      "text/plain": [
       "AA    0\n",
       "AC    0\n",
       "AD    0\n",
       "AE    0\n",
       "AF    0\n",
       "     ..\n",
       "YS    0\n",
       "YT    0\n",
       "YV    0\n",
       "YW    0\n",
       "YY    0\n",
       "Name: 1, Length: 400, dtype: int64"
      ]
     },
     "execution_count": 8,
     "metadata": {},
     "output_type": "execute_result"
    }
   ],
   "source": [
    "## Create a series of dipeptides\n",
    "dpc_series = pd.Series(name='1',dtype=float)\n",
    "for x in itertools.product(aa_list,aa_list):\n",
    "    dpc_series[''.join([''.join(x)])] = 0\n",
    "dpc_series"
   ]
  },
  {
   "cell_type": "code",
   "execution_count": 9,
   "id": "6f0b63f4",
   "metadata": {
    "tags": [
     "remove-input"
    ]
   },
   "outputs": [],
   "source": [
    "import warnings\n",
    "warnings.filterwarnings('ignore')"
   ]
  },
  {
   "cell_type": "code",
   "execution_count": 10,
   "id": "0cb32d30",
   "metadata": {},
   "outputs": [],
   "source": [
    "df_dpc = pd.DataFrame([])\n",
    "for keys,values in positive_dict.items():\n",
    "    dpc_series_copy = dpc_series.copy()\n",
    "#    print (values.seq)\n",
    "    dpc_seq = [str(values.seq[i:i+2]) for i in range(len(values.seq))]\n",
    "    del dpc_seq[-1]\n",
    "    for x in dpc_seq:\n",
    "        dpc_series_copy[x] += 1\n",
    "    dpc_series_copy /= len(values.seq)\n",
    "    dpc_series_copy *= 100\n",
    "    df_dpc = df_dpc.append(dpc_series_copy)\n",
    "#dpc_series_copy"
   ]
  },
  {
   "cell_type": "code",
   "execution_count": 11,
   "id": "cff287a9",
   "metadata": {},
   "outputs": [
    {
     "data": {
      "text/html": [
       "<div>\n",
       "<style scoped>\n",
       "    .dataframe tbody tr th:only-of-type {\n",
       "        vertical-align: middle;\n",
       "    }\n",
       "\n",
       "    .dataframe tbody tr th {\n",
       "        vertical-align: top;\n",
       "    }\n",
       "\n",
       "    .dataframe thead th {\n",
       "        text-align: right;\n",
       "    }\n",
       "</style>\n",
       "<table border=\"1\" class=\"dataframe\">\n",
       "  <thead>\n",
       "    <tr style=\"text-align: right;\">\n",
       "      <th></th>\n",
       "      <th>AA</th>\n",
       "      <th>AC</th>\n",
       "      <th>AD</th>\n",
       "      <th>AE</th>\n",
       "      <th>AF</th>\n",
       "      <th>AG</th>\n",
       "      <th>AH</th>\n",
       "      <th>AI</th>\n",
       "      <th>AK</th>\n",
       "      <th>AL</th>\n",
       "      <th>...</th>\n",
       "      <th>YM</th>\n",
       "      <th>YN</th>\n",
       "      <th>YP</th>\n",
       "      <th>YQ</th>\n",
       "      <th>YR</th>\n",
       "      <th>YS</th>\n",
       "      <th>YT</th>\n",
       "      <th>YV</th>\n",
       "      <th>YW</th>\n",
       "      <th>YY</th>\n",
       "    </tr>\n",
       "  </thead>\n",
       "  <tbody>\n",
       "    <tr>\n",
       "      <th>1</th>\n",
       "      <td>0.399202</td>\n",
       "      <td>0.000000</td>\n",
       "      <td>0.000000</td>\n",
       "      <td>0.399202</td>\n",
       "      <td>0.399202</td>\n",
       "      <td>0.399202</td>\n",
       "      <td>0.199601</td>\n",
       "      <td>0.199601</td>\n",
       "      <td>0.598802</td>\n",
       "      <td>0.199601</td>\n",
       "      <td>...</td>\n",
       "      <td>0.199601</td>\n",
       "      <td>0.000000</td>\n",
       "      <td>0.598802</td>\n",
       "      <td>0.199601</td>\n",
       "      <td>0.000000</td>\n",
       "      <td>0.199601</td>\n",
       "      <td>0.000000</td>\n",
       "      <td>0.000000</td>\n",
       "      <td>0.0</td>\n",
       "      <td>0.000000</td>\n",
       "    </tr>\n",
       "    <tr>\n",
       "      <th>1</th>\n",
       "      <td>1.345291</td>\n",
       "      <td>0.000000</td>\n",
       "      <td>0.149477</td>\n",
       "      <td>0.747384</td>\n",
       "      <td>0.149477</td>\n",
       "      <td>0.597907</td>\n",
       "      <td>0.149477</td>\n",
       "      <td>0.298954</td>\n",
       "      <td>0.896861</td>\n",
       "      <td>0.448430</td>\n",
       "      <td>...</td>\n",
       "      <td>0.000000</td>\n",
       "      <td>0.000000</td>\n",
       "      <td>0.298954</td>\n",
       "      <td>0.448430</td>\n",
       "      <td>0.000000</td>\n",
       "      <td>0.000000</td>\n",
       "      <td>0.298954</td>\n",
       "      <td>0.597907</td>\n",
       "      <td>0.0</td>\n",
       "      <td>0.000000</td>\n",
       "    </tr>\n",
       "    <tr>\n",
       "      <th>1</th>\n",
       "      <td>0.571429</td>\n",
       "      <td>0.000000</td>\n",
       "      <td>0.761905</td>\n",
       "      <td>0.761905</td>\n",
       "      <td>0.380952</td>\n",
       "      <td>1.142857</td>\n",
       "      <td>0.190476</td>\n",
       "      <td>0.380952</td>\n",
       "      <td>0.571429</td>\n",
       "      <td>1.142857</td>\n",
       "      <td>...</td>\n",
       "      <td>0.000000</td>\n",
       "      <td>0.000000</td>\n",
       "      <td>0.000000</td>\n",
       "      <td>0.000000</td>\n",
       "      <td>0.761905</td>\n",
       "      <td>0.190476</td>\n",
       "      <td>0.190476</td>\n",
       "      <td>0.190476</td>\n",
       "      <td>0.0</td>\n",
       "      <td>0.000000</td>\n",
       "    </tr>\n",
       "    <tr>\n",
       "      <th>1</th>\n",
       "      <td>0.331126</td>\n",
       "      <td>0.165563</td>\n",
       "      <td>0.331126</td>\n",
       "      <td>0.496689</td>\n",
       "      <td>0.662252</td>\n",
       "      <td>0.662252</td>\n",
       "      <td>0.331126</td>\n",
       "      <td>0.000000</td>\n",
       "      <td>0.165563</td>\n",
       "      <td>0.496689</td>\n",
       "      <td>...</td>\n",
       "      <td>0.000000</td>\n",
       "      <td>0.165563</td>\n",
       "      <td>0.165563</td>\n",
       "      <td>0.331126</td>\n",
       "      <td>0.827815</td>\n",
       "      <td>0.331126</td>\n",
       "      <td>0.000000</td>\n",
       "      <td>0.165563</td>\n",
       "      <td>0.0</td>\n",
       "      <td>0.000000</td>\n",
       "    </tr>\n",
       "    <tr>\n",
       "      <th>1</th>\n",
       "      <td>0.495050</td>\n",
       "      <td>0.000000</td>\n",
       "      <td>0.660066</td>\n",
       "      <td>0.990099</td>\n",
       "      <td>0.165017</td>\n",
       "      <td>0.660066</td>\n",
       "      <td>0.000000</td>\n",
       "      <td>0.165017</td>\n",
       "      <td>0.825083</td>\n",
       "      <td>0.825083</td>\n",
       "      <td>...</td>\n",
       "      <td>0.165017</td>\n",
       "      <td>0.495050</td>\n",
       "      <td>0.165017</td>\n",
       "      <td>0.165017</td>\n",
       "      <td>0.165017</td>\n",
       "      <td>0.165017</td>\n",
       "      <td>0.165017</td>\n",
       "      <td>0.330033</td>\n",
       "      <td>0.0</td>\n",
       "      <td>0.330033</td>\n",
       "    </tr>\n",
       "    <tr>\n",
       "      <th>...</th>\n",
       "      <td>...</td>\n",
       "      <td>...</td>\n",
       "      <td>...</td>\n",
       "      <td>...</td>\n",
       "      <td>...</td>\n",
       "      <td>...</td>\n",
       "      <td>...</td>\n",
       "      <td>...</td>\n",
       "      <td>...</td>\n",
       "      <td>...</td>\n",
       "      <td>...</td>\n",
       "      <td>...</td>\n",
       "      <td>...</td>\n",
       "      <td>...</td>\n",
       "      <td>...</td>\n",
       "      <td>...</td>\n",
       "      <td>...</td>\n",
       "      <td>...</td>\n",
       "      <td>...</td>\n",
       "      <td>...</td>\n",
       "      <td>...</td>\n",
       "    </tr>\n",
       "    <tr>\n",
       "      <th>1</th>\n",
       "      <td>0.790514</td>\n",
       "      <td>0.000000</td>\n",
       "      <td>0.592885</td>\n",
       "      <td>0.395257</td>\n",
       "      <td>0.592885</td>\n",
       "      <td>0.592885</td>\n",
       "      <td>0.197628</td>\n",
       "      <td>0.197628</td>\n",
       "      <td>1.185771</td>\n",
       "      <td>0.395257</td>\n",
       "      <td>...</td>\n",
       "      <td>0.000000</td>\n",
       "      <td>0.000000</td>\n",
       "      <td>0.197628</td>\n",
       "      <td>0.000000</td>\n",
       "      <td>0.395257</td>\n",
       "      <td>0.197628</td>\n",
       "      <td>0.000000</td>\n",
       "      <td>0.000000</td>\n",
       "      <td>0.0</td>\n",
       "      <td>0.000000</td>\n",
       "    </tr>\n",
       "    <tr>\n",
       "      <th>1</th>\n",
       "      <td>0.401606</td>\n",
       "      <td>0.000000</td>\n",
       "      <td>0.401606</td>\n",
       "      <td>0.200803</td>\n",
       "      <td>1.004016</td>\n",
       "      <td>0.200803</td>\n",
       "      <td>0.401606</td>\n",
       "      <td>0.000000</td>\n",
       "      <td>0.803213</td>\n",
       "      <td>0.200803</td>\n",
       "      <td>...</td>\n",
       "      <td>0.000000</td>\n",
       "      <td>0.000000</td>\n",
       "      <td>0.000000</td>\n",
       "      <td>0.401606</td>\n",
       "      <td>0.200803</td>\n",
       "      <td>0.602410</td>\n",
       "      <td>0.200803</td>\n",
       "      <td>0.803213</td>\n",
       "      <td>0.0</td>\n",
       "      <td>0.401606</td>\n",
       "    </tr>\n",
       "    <tr>\n",
       "      <th>1</th>\n",
       "      <td>2.923977</td>\n",
       "      <td>0.000000</td>\n",
       "      <td>1.754386</td>\n",
       "      <td>1.949318</td>\n",
       "      <td>1.169591</td>\n",
       "      <td>0.779727</td>\n",
       "      <td>0.194932</td>\n",
       "      <td>0.389864</td>\n",
       "      <td>0.000000</td>\n",
       "      <td>1.559454</td>\n",
       "      <td>...</td>\n",
       "      <td>0.000000</td>\n",
       "      <td>0.000000</td>\n",
       "      <td>0.194932</td>\n",
       "      <td>0.000000</td>\n",
       "      <td>0.584795</td>\n",
       "      <td>0.000000</td>\n",
       "      <td>0.000000</td>\n",
       "      <td>0.000000</td>\n",
       "      <td>0.0</td>\n",
       "      <td>0.000000</td>\n",
       "    </tr>\n",
       "    <tr>\n",
       "      <th>1</th>\n",
       "      <td>0.000000</td>\n",
       "      <td>0.000000</td>\n",
       "      <td>0.114416</td>\n",
       "      <td>0.114416</td>\n",
       "      <td>0.114416</td>\n",
       "      <td>0.114416</td>\n",
       "      <td>0.114416</td>\n",
       "      <td>0.114416</td>\n",
       "      <td>0.343249</td>\n",
       "      <td>0.114416</td>\n",
       "      <td>...</td>\n",
       "      <td>0.000000</td>\n",
       "      <td>0.228833</td>\n",
       "      <td>0.228833</td>\n",
       "      <td>0.000000</td>\n",
       "      <td>0.228833</td>\n",
       "      <td>0.228833</td>\n",
       "      <td>0.228833</td>\n",
       "      <td>0.228833</td>\n",
       "      <td>0.0</td>\n",
       "      <td>0.228833</td>\n",
       "    </tr>\n",
       "    <tr>\n",
       "      <th>1</th>\n",
       "      <td>0.000000</td>\n",
       "      <td>0.142653</td>\n",
       "      <td>0.285307</td>\n",
       "      <td>0.000000</td>\n",
       "      <td>0.570613</td>\n",
       "      <td>0.000000</td>\n",
       "      <td>0.285307</td>\n",
       "      <td>0.855920</td>\n",
       "      <td>0.570613</td>\n",
       "      <td>1.711840</td>\n",
       "      <td>...</td>\n",
       "      <td>0.000000</td>\n",
       "      <td>0.000000</td>\n",
       "      <td>0.142653</td>\n",
       "      <td>0.427960</td>\n",
       "      <td>0.000000</td>\n",
       "      <td>0.000000</td>\n",
       "      <td>0.142653</td>\n",
       "      <td>0.000000</td>\n",
       "      <td>0.0</td>\n",
       "      <td>0.285307</td>\n",
       "    </tr>\n",
       "  </tbody>\n",
       "</table>\n",
       "<p>117 rows × 400 columns</p>\n",
       "</div>"
      ],
      "text/plain": [
       "          AA        AC        AD        AE        AF        AG        AH  \\\n",
       "1   0.399202  0.000000  0.000000  0.399202  0.399202  0.399202  0.199601   \n",
       "1   1.345291  0.000000  0.149477  0.747384  0.149477  0.597907  0.149477   \n",
       "1   0.571429  0.000000  0.761905  0.761905  0.380952  1.142857  0.190476   \n",
       "1   0.331126  0.165563  0.331126  0.496689  0.662252  0.662252  0.331126   \n",
       "1   0.495050  0.000000  0.660066  0.990099  0.165017  0.660066  0.000000   \n",
       "..       ...       ...       ...       ...       ...       ...       ...   \n",
       "1   0.790514  0.000000  0.592885  0.395257  0.592885  0.592885  0.197628   \n",
       "1   0.401606  0.000000  0.401606  0.200803  1.004016  0.200803  0.401606   \n",
       "1   2.923977  0.000000  1.754386  1.949318  1.169591  0.779727  0.194932   \n",
       "1   0.000000  0.000000  0.114416  0.114416  0.114416  0.114416  0.114416   \n",
       "1   0.000000  0.142653  0.285307  0.000000  0.570613  0.000000  0.285307   \n",
       "\n",
       "          AI        AK        AL  ...        YM        YN        YP        YQ  \\\n",
       "1   0.199601  0.598802  0.199601  ...  0.199601  0.000000  0.598802  0.199601   \n",
       "1   0.298954  0.896861  0.448430  ...  0.000000  0.000000  0.298954  0.448430   \n",
       "1   0.380952  0.571429  1.142857  ...  0.000000  0.000000  0.000000  0.000000   \n",
       "1   0.000000  0.165563  0.496689  ...  0.000000  0.165563  0.165563  0.331126   \n",
       "1   0.165017  0.825083  0.825083  ...  0.165017  0.495050  0.165017  0.165017   \n",
       "..       ...       ...       ...  ...       ...       ...       ...       ...   \n",
       "1   0.197628  1.185771  0.395257  ...  0.000000  0.000000  0.197628  0.000000   \n",
       "1   0.000000  0.803213  0.200803  ...  0.000000  0.000000  0.000000  0.401606   \n",
       "1   0.389864  0.000000  1.559454  ...  0.000000  0.000000  0.194932  0.000000   \n",
       "1   0.114416  0.343249  0.114416  ...  0.000000  0.228833  0.228833  0.000000   \n",
       "1   0.855920  0.570613  1.711840  ...  0.000000  0.000000  0.142653  0.427960   \n",
       "\n",
       "          YR        YS        YT        YV   YW        YY  \n",
       "1   0.000000  0.199601  0.000000  0.000000  0.0  0.000000  \n",
       "1   0.000000  0.000000  0.298954  0.597907  0.0  0.000000  \n",
       "1   0.761905  0.190476  0.190476  0.190476  0.0  0.000000  \n",
       "1   0.827815  0.331126  0.000000  0.165563  0.0  0.000000  \n",
       "1   0.165017  0.165017  0.165017  0.330033  0.0  0.330033  \n",
       "..       ...       ...       ...       ...  ...       ...  \n",
       "1   0.395257  0.197628  0.000000  0.000000  0.0  0.000000  \n",
       "1   0.200803  0.602410  0.200803  0.803213  0.0  0.401606  \n",
       "1   0.584795  0.000000  0.000000  0.000000  0.0  0.000000  \n",
       "1   0.228833  0.228833  0.228833  0.228833  0.0  0.228833  \n",
       "1   0.000000  0.000000  0.142653  0.000000  0.0  0.285307  \n",
       "\n",
       "[117 rows x 400 columns]"
      ]
     },
     "execution_count": 11,
     "metadata": {},
     "output_type": "execute_result"
    }
   ],
   "source": [
    "df_dpc"
   ]
  }
 ],
 "metadata": {
  "kernelspec": {
   "display_name": "Python 3 (ipykernel)",
   "language": "python",
   "name": "python3"
  },
  "language_info": {
   "codemirror_mode": {
    "name": "ipython",
    "version": 3
   },
   "file_extension": ".py",
   "mimetype": "text/x-python",
   "name": "python",
   "nbconvert_exporter": "python",
   "pygments_lexer": "ipython3",
   "version": "3.9.13"
  }
 },
 "nbformat": 4,
 "nbformat_minor": 5
}
